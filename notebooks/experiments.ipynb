{
 "cells": [
  {
   "cell_type": "markdown",
   "id": "approximate-frederick",
   "metadata": {},
   "source": [
    "# Classifying Population Dynamics"
   ]
  },
  {
   "cell_type": "code",
   "execution_count": 1,
   "id": "verbal-fraction",
   "metadata": {},
   "outputs": [],
   "source": [
    "%run ../src/dataset.py\n",
    "%run ../src/augmentation.py\n",
    "%run ../src/simulation.py\n",
    "%run ../src/nets.py\n",
    "%run ../src/trainer.py\n",
    "%run ../src/utils.py"
   ]
  },
  {
   "cell_type": "markdown",
   "id": "final-raleigh",
   "metadata": {},
   "source": [
    "Train a model based on Wright-Fisher simulations (without age structure)."
   ]
  },
  {
   "cell_type": "code",
   "execution_count": 2,
   "id": "cosmetic-wonder",
   "metadata": {},
   "outputs": [],
   "source": [
    "classifier = TimeseriesClassifier(\n",
    "    classifier=MultiLayerPerceptron(128, layers=(64, 64, 64)),\n",
    "    embedder=ResNet(1)\n",
    ")"
   ]
  },
  {
   "cell_type": "code",
   "execution_count": 3,
   "id": "passive-cattle",
   "metadata": {},
   "outputs": [],
   "source": [
    "tranformer = Compose(Normalizer(), Standardizer())\n",
    "data = PresimulatedDataset.load(\"../data/20210405204149.npz\")#, transform=Normalizer())"
   ]
  },
  {
   "cell_type": "code",
   "execution_count": 4,
   "id": "indonesian-alexandria",
   "metadata": {},
   "outputs": [
    {
     "data": {
      "text/plain": [
       "50000"
      ]
     },
     "execution_count": 4,
     "metadata": {},
     "output_type": "execute_result"
    }
   ],
   "source": [
    "len(set(data.ids))"
   ]
  },
  {
   "cell_type": "code",
   "execution_count": 5,
   "id": "capable-latino",
   "metadata": {},
   "outputs": [
    {
     "data": {
      "text/plain": [
       "(tensor([0.1102, 0.0481, 0.3748]),\n",
       " tensor([638.0000,  61.7408,   2.1469,   1.2696,   1.1740,   1.1431,   1.1279]))"
      ]
     },
     "execution_count": 5,
     "metadata": {},
     "output_type": "execute_result"
    }
   ],
   "source": [
    "data[8000]"
   ]
  },
  {
   "cell_type": "markdown",
   "id": "surprising-torture",
   "metadata": {},
   "source": [
    "Train the actual model. In each epoch, we simulate 50k samples with different parameters, $\\theta$. The training procedure can probably be improved, but it already produces reasonable results."
   ]
  },
  {
   "cell_type": "code",
   "execution_count": 6,
   "id": "subjective-oracle",
   "metadata": {},
   "outputs": [
    {
     "name": "stdout",
     "output_type": "stream",
     "text": [
      "Epoch  1: train loss = 0.26, val loss = 0.20, AUC = 0.97\u001b[32m ++\u001b[0m\n",
      "Epoch  2: train loss = 0.18, val loss = 0.19, AUC = 0.97\u001b[32m ++\u001b[0m\n",
      "Epoch  3: train loss = 0.16, val loss = 0.18, AUC = 0.97\u001b[32m ++\u001b[0m\n",
      "Epoch  4: train loss = 0.16, val loss = 0.18, AUC = 0.97\u001b[31m --\u001b[0m\n",
      "Epoch  5: train loss = 0.15, val loss = 0.18, AUC = 0.97\u001b[32m ++\u001b[0m\n",
      "Epoch  6: train loss = 0.15, val loss = 0.15, AUC = 0.97\u001b[32m ++\u001b[0m\n",
      "Epoch  7: train loss = 0.15, val loss = 0.15, AUC = 0.97\u001b[32m ++\u001b[0m\n",
      "Epoch  8: train loss = 0.15, val loss = 0.15, AUC = 0.98\u001b[32m ++\u001b[0m\n",
      "Epoch  9: train loss = 0.15, val loss = 0.15, AUC = 0.98\u001b[31m --\u001b[0m\n",
      "Epoch 10: train loss = 0.14, val loss = 0.14, AUC = 0.98\u001b[32m ++\u001b[0m\n",
      "Epoch 11: train loss = 0.14, val loss = 0.14, AUC = 0.98\u001b[31m --\u001b[0m\n",
      "Epoch 12: train loss = 0.14, val loss = 0.14, AUC = 0.98\u001b[31m --\u001b[0m\n",
      "Epoch 13: train loss = 0.14, val loss = 0.15, AUC = 0.98\u001b[31m --\u001b[0m\n",
      "Epoch 14: train loss = 0.14, val loss = 0.14, AUC = 0.98\u001b[31m --\u001b[0m\n",
      "Epoch 15: train loss = 0.14, val loss = 0.16, AUC = 0.97\u001b[31m --\u001b[0m\n",
      "Epoch 16: train loss = 0.14, val loss = 0.14, AUC = 0.98\u001b[32m ++\u001b[0m\n",
      "Epoch 17: train loss = 0.14, val loss = 0.16, AUC = 0.97\u001b[31m --\u001b[0m\n",
      "Epoch 18: train loss = 0.14, val loss = 0.17, AUC = 0.97\u001b[31m --\u001b[0m\n",
      "Epoch 19: train loss = 0.14, val loss = 0.16, AUC = 0.97\u001b[31m --\u001b[0m\n",
      "Epoch 20: train loss = 0.14, val loss = 0.16, AUC = 0.97\u001b[31m --\u001b[0m\n",
      "Epoch 21: train loss = 0.14, val loss = 0.15, AUC = 0.98\u001b[31m --\u001b[0m\n",
      "Epoch 22: train loss = 0.14, val loss = 0.17, AUC = 0.97\u001b[31m --\u001b[0m\n",
      "Epoch    22: reducing learning rate of group 0 to 1.0000e-04.\n",
      "Epoch 23: train loss = 0.14, val loss = 0.14, AUC = 0.98\u001b[32m ++\u001b[0m\n",
      "Epoch 24: train loss = 0.13, val loss = 0.14, AUC = 0.98\u001b[32m ++\u001b[0m\n",
      "Epoch 25: train loss = 0.13, val loss = 0.14, AUC = 0.98\u001b[31m --\u001b[0m\n",
      "Epoch 26: train loss = 0.13, val loss = 0.14, AUC = 0.98\u001b[32m ++\u001b[0m\n",
      "Epoch 27: train loss = 0.13, val loss = 0.14, AUC = 0.98\u001b[32m ++\u001b[0m\n",
      "Epoch 28: train loss = 0.13, val loss = 0.14, AUC = 0.98\u001b[31m --\u001b[0m\n",
      "Epoch 29: train loss = 0.13, val loss = 0.14, AUC = 0.98\u001b[32m ++\u001b[0m\n",
      "Epoch 30: train loss = 0.13, val loss = 0.14, AUC = 0.98\u001b[32m ++\u001b[0m\n",
      "Epoch 31: train loss = 0.13, val loss = 0.14, AUC = 0.98\u001b[32m ++\u001b[0m\n",
      "Epoch 32: train loss = 0.13, val loss = 0.14, AUC = 0.98\u001b[31m --\u001b[0m\n",
      "Epoch 33: train loss = 0.13, val loss = 0.14, AUC = 0.98\u001b[31m --\u001b[0m\n",
      "Epoch 34: train loss = 0.13, val loss = 0.14, AUC = 0.98\u001b[31m --\u001b[0m\n",
      "Epoch 35: train loss = 0.13, val loss = 0.14, AUC = 0.98\u001b[31m --\u001b[0m\n",
      "Epoch 36: train loss = 0.13, val loss = 0.14, AUC = 0.98\u001b[31m --\u001b[0m\n",
      "Epoch 37: train loss = 0.13, val loss = 0.14, AUC = 0.98\u001b[31m --\u001b[0m\n",
      "Epoch    37: reducing learning rate of group 0 to 1.0000e-05.\n",
      "Epoch 38: train loss = 0.13, val loss = 0.14, AUC = 0.98\u001b[32m ++\u001b[0m\n",
      "Epoch 39: train loss = 0.13, val loss = 0.14, AUC = 0.98\u001b[31m --\u001b[0m\n",
      "Epoch 40: train loss = 0.13, val loss = 0.14, AUC = 0.98\u001b[31m --\u001b[0m\n"
     ]
    }
   ],
   "source": [
    "classifier, train_loader, val_loader = train(\n",
    "    data=data,\n",
    "    classifier=classifier, \n",
    "    n_epochs=40, \n",
    "    batch_size=500, \n",
    "    device=\"cuda\", \n",
    "    learning_rate=0.001,\n",
    "    num_workers=40\n",
    ")"
   ]
  },
  {
   "cell_type": "code",
   "execution_count": 14,
   "id": "cubic-oasis",
   "metadata": {},
   "outputs": [],
   "source": [
    "import multiprocessing as mp\n",
    "\n",
    "classifier.eval()\n",
    "\n",
    "def classify(theta, simulator, num_experiments=100, n_jobs=1):\n",
    "    with mp.Pool(n_jobs) as pool:\n",
    "        x = np.vstack(\n",
    "            pool.starmap(simulator, [(theta, np.random.RandomState(i)) for i in range(num_experiments)])\n",
    "        )\n",
    "    with torch.no_grad():\n",
    "        output = classifier(torch.FloatTensor(x).unsqueeze(1).to(\"cuda\"))\n",
    "    return output"
   ]
  },
  {
   "cell_type": "code",
   "execution_count": 10,
   "id": "extreme-better",
   "metadata": {},
   "outputs": [
    {
     "data": {
      "text/plain": [
       "{'agents': 10000,\n",
       " 'timesteps': 1000,\n",
       " 'simulations': 50000,\n",
       " 'workers': 40,\n",
       " 'burn_in': 1000,\n",
       " 'top_n': 0,\n",
       " 'summarize': True}"
      ]
     },
     "execution_count": 10,
     "metadata": {},
     "output_type": "execute_result"
    }
   ],
   "source": [
    "import json\n",
    "\n",
    "with open(\"../data/20210405204149.params.json\") as f:\n",
    "    params = json.load(f)\n",
    "params"
   ]
  },
  {
   "cell_type": "code",
   "execution_count": 11,
   "id": "expensive-television",
   "metadata": {},
   "outputs": [],
   "source": [
    "neutral_simulator = Simulator(\n",
    "    n_agents=params[\"agents\"], \n",
    "    timesteps=params[\"timesteps\"],\n",
    "    age_window=None,\n",
    "    disable_pbar=True,\n",
    "    summarize=True\n",
    ")"
   ]
  },
  {
   "cell_type": "markdown",
   "id": "lined-medication",
   "metadata": {},
   "source": [
    "Test the performance of the model by classifying some generated samples. Given some $\\theta_i$, we simulate 100 samples, and use the trained classifier to 'predict' whether they are examples of neutral evolution or not. The function returns the fraction of biased samples. \n",
    "\n",
    "First, let's test whether the model accurately classifies neutral samples to be neutral:"
   ]
  },
  {
   "cell_type": "code",
   "execution_count": 18,
   "id": "critical-adelaide",
   "metadata": {},
   "outputs": [
    {
     "name": "stdout",
     "output_type": "stream",
     "text": [
      "p(theta=0|x) = 0.990\n"
     ]
    }
   ],
   "source": [
    "theta = torch.tensor([0., 0.01, 0.5])\n",
    "output = classify(theta, neutral_simulator, n_jobs=25)\n",
    "pred = (output < 0.5).float().mean().item()\n",
    "\n",
    "print(f\"p(theta=0|x) = {pred:.3f}\")"
   ]
  },
  {
   "cell_type": "markdown",
   "id": "subtle-prompt",
   "metadata": {},
   "source": [
    "That seems to be working. And what about non-neutral, biased samples?"
   ]
  },
  {
   "cell_type": "code",
   "execution_count": 16,
   "id": "earlier-riding",
   "metadata": {},
   "outputs": [
    {
     "name": "stdout",
     "output_type": "stream",
     "text": [
      "p(theta=1|x) = 1.000\n"
     ]
    }
   ],
   "source": [
    "theta = torch.tensor([0.1, 0.01, 0.5])\n",
    "output = classify(theta, neutral_simulator, n_jobs=25)\n",
    "pred = (output > 0.5).float().mean().item()\n",
    "\n",
    "print(f\"p(theta=1|x) = {pred:.3f}\")"
   ]
  },
  {
   "cell_type": "markdown",
   "id": "daily-alcohol",
   "metadata": {},
   "source": [
    "Also not bad. \n",
    "\n",
    "Next, we generate samples with the age-structured model and see whether the model (which was only trained on samples _without_ age structure) can still accurately discriminate between neutral an non-neutral samples:"
   ]
  },
  {
   "cell_type": "code",
   "execution_count": 19,
   "id": "satisfactory-bahrain",
   "metadata": {},
   "outputs": [],
   "source": [
    "age_structured_simulator = Simulator(\n",
    "    n_agents=params[\"agents\"], \n",
    "    timesteps=params[\"timesteps\"],\n",
    "    age_window=(0, 2),\n",
    "    disable_pbar=True,\n",
    "    summarize=True\n",
    ")"
   ]
  },
  {
   "cell_type": "code",
   "execution_count": 20,
   "id": "useful-ballot",
   "metadata": {},
   "outputs": [
    {
     "name": "stdout",
     "output_type": "stream",
     "text": [
      "p(theta=0|x) = 1.000\n"
     ]
    }
   ],
   "source": [
    "theta = torch.tensor([0., 0.01, 0.5])\n",
    "output = classify(theta, age_structured_simulator, n_jobs=25)\n",
    "pred = (output < 0.5).float().mean().item()\n",
    "\n",
    "print(f\"p(theta=0|x) = {pred:.3f}\")"
   ]
  },
  {
   "cell_type": "code",
   "execution_count": 21,
   "id": "renewable-french",
   "metadata": {},
   "outputs": [
    {
     "name": "stdout",
     "output_type": "stream",
     "text": [
      "p(theta=1|x) = 1.000\n"
     ]
    }
   ],
   "source": [
    "theta = torch.tensor([0.1, 0.01, 0.5])\n",
    "output = classify(theta, age_structured_simulator, n_jobs=25)\n",
    "pred = (output > 0.5).float().mean().item()\n",
    "\n",
    "print(f\"p(theta=1|x) = {pred:.3f}\")"
   ]
  },
  {
   "cell_type": "markdown",
   "id": "disciplinary-reverse",
   "metadata": {},
   "source": [
    "The first preliminary results suggest that the performance of the classifier is not too strongly affected by age structure. But Let's look at that in some more detail. In the following code blocks, we simulate and classify samples with $\\beta$ from [-0.1, 0.1] in 100 equally spaced subintervals. For each value $\\beta_i$, we sample 100 examples with the standard Wright-Fisher model and 100 with the age-structured model. We store the resulting probabilities of each sample being non-neutral."
   ]
  },
  {
   "cell_type": "code",
   "execution_count": 23,
   "id": "nutritional-adoption",
   "metadata": {},
   "outputs": [
    {
     "name": "stderr",
     "output_type": "stream",
     "text": [
      "100%|██████████| 101/101 [43:32<00:00, 25.87s/it]\n"
     ]
    }
   ],
   "source": [
    "import tqdm\n",
    "\n",
    "betas = np.linspace(-0.1, 0.1, num=101)\n",
    "\n",
    "neutral_scores, age_scores = [], []\n",
    "for beta in tqdm.tqdm(betas):\n",
    "    theta = torch.tensor([beta, 0.01, 0.5])\n",
    "    neutral_scores.append(classify(theta, neutral_simulator, n_jobs=25).cpu().numpy())\n",
    "    age_scores.append(classify(theta, age_structured_simulator, n_jobs=25).cpu().numpy())"
   ]
  },
  {
   "cell_type": "code",
   "execution_count": 24,
   "id": "rational-straight",
   "metadata": {},
   "outputs": [],
   "source": [
    "neutral_results = np.array(neutral_scores)\n",
    "age_results = np.array(age_scores)"
   ]
  },
  {
   "cell_type": "markdown",
   "id": "universal-friend",
   "metadata": {},
   "source": [
    "The plot below visualizes the results:"
   ]
  },
  {
   "cell_type": "code",
   "execution_count": 25,
   "id": "wanted-departure",
   "metadata": {},
   "outputs": [
    {
     "data": {
      "image/png": "[encoded data removed]",
      "text/plain": [
       "<Figure size 576x360 with 1 Axes>"
      ]
     },
     "metadata": {
      "needs_background": "light"
     },
     "output_type": "display_data"
    }
   ],
   "source": [
    "fig, ax = plt.subplots(figsize=(8, 5))\n",
    "\n",
    "tsplot(neutral_results.T, betas, color=\"grey\", line_color=\"C0\", ax=ax, percentile_min=5.5, \n",
    "       percentile_max=94.5, label=\"age structure = None\")\n",
    "tsplot(age_results.T, betas, color=\"grey\", line_color=\"C1\", ax=ax, percentile_min=5.5, \n",
    "       percentile_max=94.5, label=\"age structure = (0, 2)\")\n",
    "\n",
    "ax.legend(frameon=False)\n",
    "ax.spines[\"top\"].set_visible(False)\n",
    "ax.spines[\"right\"].set_visible(False)\n",
    "ax.set(xlabel=r\"$\\beta$\", ylabel=r\"$p(\\theta=1|x)$\");\n",
    "\n",
    "plt.savefig(\"plotje.png\", dpi=300)"
   ]
  },
  {
   "cell_type": "markdown",
   "id": "national-parade",
   "metadata": {},
   "source": [
    "With $\\beta$ closer to zero (i.e. when the selection strength is smaller), the average probability of samples being non-neutral goes down. Note however, that the probability decline happens sooner for the age structured model than for the regular wright fisher model. Whether this is a robust result, remains to be seen."
   ]
  }
 ],
 "metadata": {
  "kernelspec": {
   "display_name": "Python 3",
   "language": "python",
   "name": "python3"
  },
  "language_info": {
   "codemirror_mode": {
    "name": "ipython",
    "version": 3
   },
   "file_extension": ".py",
   "mimetype": "text/x-python",
   "name": "python",
   "nbconvert_exporter": "python",
   "pygments_lexer": "ipython3",
   "version": "3.8.5"
  }
 },
 "nbformat": 4,
 "nbformat_minor": 5
}
