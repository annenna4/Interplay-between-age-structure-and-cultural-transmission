{
 "cells": [
  {
   "cell_type": "markdown",
   "id": "approximate-frederick",
   "metadata": {},
   "source": [
    "# Classifying Population Dynamics"
   ]
  },
  {
   "cell_type": "code",
   "execution_count": 1,
   "id": "verbal-fraction",
   "metadata": {},
   "outputs": [],
   "source": [
    "%run ../src/dataset.py\n",
    "%run ../src/augmentation.py\n",
    "%run ../src/simulation.py\n",
    "%run ../src/nets.py\n",
    "%run ../src/trainer.py\n",
    "%run ../src/utils.py"
   ]
  },
  {
   "cell_type": "markdown",
   "id": "chubby-tradition",
   "metadata": {},
   "source": [
    "Train a model based on Wright-Fisher simulations (without age structure)."
   ]
  },
  {
   "cell_type": "code",
   "execution_count": 2,
   "id": "cosmetic-wonder",
   "metadata": {},
   "outputs": [],
   "source": [
    "classifier = TimeseriesClassifier(\n",
    "    classifier=MultiLayerPerceptron(128, layers=(64, 64, 64)),\n",
    "    embedder=ResNet(1)\n",
    ")"
   ]
  },
  {
   "cell_type": "markdown",
   "id": "relevant-somerset",
   "metadata": {},
   "source": [
    "The following cell provides some provisional parameter priors to generate samples:"
   ]
  },
  {
   "cell_type": "code",
   "execution_count": 8,
   "id": "worst-wrestling",
   "metadata": {},
   "outputs": [
    {
     "name": "stdout",
     "output_type": "stream",
     "text": [
      "tensor([-0.0779,  0.0025,  0.2322])\n"
     ]
    },
    {
     "data": {
      "text/plain": [
       "array([[56.        , 44.41817557, 38.27924108, 34.67361245, 32.27472244,\n",
       "        30.5183134 , 29.14879624]])"
      ]
     },
     "execution_count": 8,
     "metadata": {},
     "output_type": "execute_result"
    }
   ],
   "source": [
    "from torch.distributions import Uniform, Normal\n",
    "\n",
    "neutral_simulator = Simulator(\n",
    "    n_agents=1000,\n",
    "    timesteps=10,\n",
    "    age_window=None,\n",
    "    disable_pbar=True,\n",
    "    summarize=True\n",
    ")\n",
    "\n",
    "prior = IndependentPriors(\n",
    "    Normal(0., 0.1),      # beta prior\n",
    "    Uniform(0.0001, 0.1), # mu prior\n",
    "    Uniform(0.1, 0.5)     # p_death prior\n",
    ")\n",
    "\n",
    "x = prior.sample()\n",
    "print(x)\n",
    "simulator(x)"
   ]
  },
  {
   "cell_type": "markdown",
   "id": "provincial-rebel",
   "metadata": {},
   "source": [
    "Train the actual model. In each epoch, we simulate 10k samples with different parameters, $\\theta$. The training procedure can probably be improved, but it already produces reasonable results."
   ]
  },
  {
   "cell_type": "code",
   "execution_count": 6,
   "id": "subjective-oracle",
   "metadata": {},
   "outputs": [
    {
     "name": "stdout",
     "output_type": "stream",
     "text": [
      "Epoch  1: train loss = 0.44, val loss = 0.60, AUC = 0.89\u001b[32m ++\u001b[0m\n",
      "Epoch  2: train loss = 0.32, val loss = 0.32, AUC = 0.92\u001b[32m ++\u001b[0m\n",
      "Epoch  3: train loss = 0.31, val loss = 0.32, AUC = 0.93\u001b[31m --\u001b[0m\n",
      "Epoch  4: train loss = 0.31, val loss = 0.31, AUC = 0.93\u001b[32m ++\u001b[0m\n",
      "Epoch  5: train loss = 0.30, val loss = 0.33, AUC = 0.93\u001b[31m --\u001b[0m\n",
      "Epoch  6: train loss = 0.30, val loss = 0.29, AUC = 0.93\u001b[32m ++\u001b[0m\n",
      "Epoch  7: train loss = 0.29, val loss = 0.28, AUC = 0.93\u001b[32m ++\u001b[0m\n",
      "Epoch  8: train loss = 0.30, val loss = 0.28, AUC = 0.93\u001b[32m ++\u001b[0m\n",
      "Epoch  9: train loss = 0.30, val loss = 0.29, AUC = 0.93\u001b[31m --\u001b[0m\n",
      "Epoch 10: train loss = 0.30, val loss = 0.28, AUC = 0.94\u001b[32m ++\u001b[0m\n",
      "Epoch 11: train loss = 0.28, val loss = 0.28, AUC = 0.94\u001b[31m --\u001b[0m\n",
      "Epoch 12: train loss = 0.29, val loss = 0.28, AUC = 0.94\u001b[32m ++\u001b[0m\n",
      "Epoch 13: train loss = 0.29, val loss = 0.29, AUC = 0.93\u001b[31m --\u001b[0m\n",
      "Epoch 14: train loss = 0.29, val loss = 0.31, AUC = 0.93\u001b[31m --\u001b[0m\n",
      "Epoch 15: train loss = 0.28, val loss = 0.28, AUC = 0.94\u001b[31m --\u001b[0m\n",
      "Epoch 16: train loss = 0.28, val loss = 0.28, AUC = 0.94\u001b[31m --\u001b[0m\n",
      "Epoch 17: train loss = 0.28, val loss = 0.30, AUC = 0.93\u001b[31m --\u001b[0m\n",
      "Epoch 18: train loss = 0.27, val loss = 0.28, AUC = 0.94\u001b[31m --\u001b[0m\n",
      "Epoch    18: reducing learning rate of group 0 to 1.0000e-04.\n",
      "Epoch 19: train loss = 0.28, val loss = 0.27, AUC = 0.94\u001b[32m ++\u001b[0m\n",
      "Epoch 20: train loss = 0.27, val loss = 0.27, AUC = 0.94\u001b[32m ++\u001b[0m\n",
      "Epoch 21: train loss = 0.28, val loss = 0.27, AUC = 0.94\u001b[32m ++\u001b[0m\n",
      "Epoch 22: train loss = 0.28, val loss = 0.28, AUC = 0.94\u001b[31m --\u001b[0m\n",
      "Epoch 23: train loss = 0.26, val loss = 0.28, AUC = 0.94\u001b[31m --\u001b[0m\n",
      "Epoch 24: train loss = 0.28, val loss = 0.27, AUC = 0.94\u001b[31m --\u001b[0m\n",
      "Epoch 25: train loss = 0.27, val loss = 0.27, AUC = 0.94\u001b[31m --\u001b[0m\n",
      "Epoch 26: train loss = 0.28, val loss = 0.27, AUC = 0.94\u001b[32m ++\u001b[0m\n",
      "Epoch 27: train loss = 0.29, val loss = 0.27, AUC = 0.94\u001b[31m --\u001b[0m\n",
      "Epoch 28: train loss = 0.28, val loss = 0.28, AUC = 0.94\u001b[31m --\u001b[0m\n",
      "Epoch 29: train loss = 0.28, val loss = 0.27, AUC = 0.94\u001b[31m --\u001b[0m\n",
      "Epoch 30: train loss = 0.27, val loss = 0.28, AUC = 0.94\u001b[31m --\u001b[0m\n",
      "Epoch 31: train loss = 0.28, val loss = 0.28, AUC = 0.94\u001b[31m --\u001b[0m\n",
      "Epoch 32: train loss = 0.28, val loss = 0.27, AUC = 0.94\u001b[31m --\u001b[0m\n",
      "Epoch    32: reducing learning rate of group 0 to 1.0000e-05.\n",
      "Epoch 33: train loss = 0.27, val loss = 0.27, AUC = 0.94\u001b[31m --\u001b[0m\n",
      "Epoch 34: train loss = 0.27, val loss = 0.27, AUC = 0.94\u001b[31m --\u001b[0m\n",
      "Epoch 35: train loss = 0.28, val loss = 0.27, AUC = 0.94\u001b[31m --\u001b[0m\n",
      "Epoch 36: train loss = 0.28, val loss = 0.27, AUC = 0.94\u001b[31m --\u001b[0m\n",
      "Epoch 37: train loss = 0.27, val loss = 0.27, AUC = 0.94\u001b[31m --\u001b[0m\n",
      "Epoch 38: train loss = 0.28, val loss = 0.27, AUC = 0.94\u001b[31m --\u001b[0m\n",
      "Epoch    38: reducing learning rate of group 0 to 1.0000e-06.\n",
      "Epoch 39: train loss = 0.28, val loss = 0.27, AUC = 0.94\u001b[31m --\u001b[0m\n",
      "Epoch 40: train loss = 0.28, val loss = 0.27, AUC = 0.94\u001b[31m --\u001b[0m\n"
     ]
    }
   ],
   "source": [
    "classifier, train_loader, val_loader = train(\n",
    "    simulator=neutral_simulator,\n",
    "    prior=prior,\n",
    "    num_simulations=10000,\n",
    "    classifier=classifier, \n",
    "    n_epochs=40, \n",
    "    batch_size=500, \n",
    "    device=\"cuda\", \n",
    "    learning_rate=0.001,\n",
    "    num_workers=40\n",
    ")"
   ]
  },
  {
   "cell_type": "code",
   "execution_count": 65,
   "id": "christian-gilbert",
   "metadata": {},
   "outputs": [],
   "source": [
    "classifier.eval()\n",
    "\n",
    "def classify(theta, simulator, num_experiments=100):\n",
    "    x = np.vstack([simulator(theta) for _ in range(num_experiments)])\n",
    "    with torch.no_grad():\n",
    "        output = classifier(torch.FloatTensor(x).unsqueeze(1).to(\"cuda\"))\n",
    "    return output"
   ]
  },
  {
   "cell_type": "markdown",
   "id": "sound-pitch",
   "metadata": {},
   "source": [
    "Test the performance of the model by classifying some generated samples. Given some $\\theta_i$, we simulate 100 samples, and use the trained classifier to 'predict' whether they are examples of neutral evolution or not. The function returns the fraction of biased samples. \n",
    "\n",
    "First, let's test whether the model accurately classifies neutral samples to be neutral:"
   ]
  },
  {
   "cell_type": "code",
   "execution_count": 57,
   "id": "opening-ferry",
   "metadata": {},
   "outputs": [
    {
     "name": "stdout",
     "output_type": "stream",
     "text": [
      "p(x|theta=1) = 0.020\n"
     ]
    }
   ],
   "source": [
    "theta = torch.tensor([0., 0.01, 0.5])\n",
    "output = classify(theta, neutral_simulator)\n",
    "pred = (output > 0.5).float().mean().item()\n",
    "\n",
    "print(f\"p(theta=1|x) = {pred:.3f}\")"
   ]
  },
  {
   "cell_type": "markdown",
   "id": "married-maximum",
   "metadata": {},
   "source": [
    "That seems to be working. And what about non-neutral, biased samples?"
   ]
  },
  {
   "cell_type": "code",
   "execution_count": 62,
   "id": "hundred-launch",
   "metadata": {},
   "outputs": [
    {
     "name": "stdout",
     "output_type": "stream",
     "text": [
      "p(x|theta=1) = 0.920\n"
     ]
    }
   ],
   "source": [
    "theta = torch.tensor([0.1, 0.01, 0.5])\n",
    "output = classify(theta, neutral_simulator)\n",
    "pred = (output > 0.5).float().mean().item()\n",
    "\n",
    "print(f\"p(theta=1|x) = {pred:.3f}\")"
   ]
  },
  {
   "cell_type": "markdown",
   "id": "overhead-hybrid",
   "metadata": {},
   "source": [
    "Also not bad. \n",
    "\n",
    "Next, we generate samples with the age-structured model and see whether the model (which was only trained on samples _without_ age structure) can still accurately discriminate between neutral an non-neutral samples:"
   ]
  },
  {
   "cell_type": "code",
   "execution_count": 24,
   "id": "satisfactory-bahrain",
   "metadata": {},
   "outputs": [],
   "source": [
    "age_structured_simulator = Simulator(\n",
    "    n_agents=1000, \n",
    "    timesteps=1,\n",
    "    age_window=(0, 2),\n",
    "    disable_pbar=True,\n",
    "    summarize=True\n",
    ")"
   ]
  },
  {
   "cell_type": "code",
   "execution_count": 59,
   "id": "useful-ballot",
   "metadata": {},
   "outputs": [
    {
     "name": "stdout",
     "output_type": "stream",
     "text": [
      "p(x|theta=1) = 0.010\n"
     ]
    }
   ],
   "source": [
    "theta = torch.tensor([0., 0.01, 0.5])\n",
    "output = classify(theta, age_structured_simulator)\n",
    "pred = (output > 0.5).float().mean().item()\n",
    "\n",
    "print(f\"p(theta=1|x) = {pred:.3f}\")"
   ]
  },
  {
   "cell_type": "code",
   "execution_count": 61,
   "id": "present-antarctica",
   "metadata": {},
   "outputs": [
    {
     "name": "stdout",
     "output_type": "stream",
     "text": [
      "p(x|theta=1) = 0.200\n"
     ]
    }
   ],
   "source": [
    "theta = torch.tensor([0.1, 0.01, 0.5])\n",
    "output = classify(theta, age_structured_simulator)\n",
    "pred = (output > 0.5).float().mean().item()\n",
    "\n",
    "print(f\"p(theta=1|x) = {pred:.3f}\")"
   ]
  },
  {
   "cell_type": "markdown",
   "id": "significant-error",
   "metadata": {},
   "source": [
    "The first preliminary results suggest that the performance of the classifier is not too strongly affected by age structure. But Let's look at that in some more detail. In the following code blocks, we simulate and classify samples with $\\beta$ from [-0.1, 0.1] in 100 equally spaced subintervals. For each value $\\beta_i$, we sample 100 examples with the standard Wright-Fisher model and 100 with the age-structured model. We store the resulting probabilities of each sample being non-neutral."
   ]
  },
  {
   "cell_type": "code",
   "execution_count": 66,
   "id": "native-trial",
   "metadata": {},
   "outputs": [
    {
     "name": "stderr",
     "output_type": "stream",
     "text": [
      "100%|██████████| 100/100 [1:13:11<00:00, 43.92s/it]\n"
     ]
    }
   ],
   "source": [
    "import tqdm\n",
    "\n",
    "betas = np.linspace(-0.1, 0.1, num=100)\n",
    "\n",
    "neutral_scores, age_scores = [], []\n",
    "for beta in tqdm.tqdm(betas):\n",
    "    theta = torch.tensor([beta, 0.01, 0.5])\n",
    "    neutral_scores.append(classify(theta, neutral_simulator).cpu().numpy())\n",
    "    age_scores.append(classify(theta, age_structured_simulator),cpu().numpy())"
   ]
  },
  {
   "cell_type": "code",
   "execution_count": 75,
   "id": "everyday-shield",
   "metadata": {},
   "outputs": [],
   "source": [
    "neutral_results = np.array(neutral_scores)\n",
    "age_results = np.array(age_scores)"
   ]
  },
  {
   "cell_type": "markdown",
   "id": "advisory-serial",
   "metadata": {},
   "source": [
    "The plot below visualizes the results:"
   ]
  },
  {
   "cell_type": "code",
   "execution_count": 103,
   "id": "bottom-haven",
   "metadata": {},
   "outputs": [
    {
     "data": {
      "image/png": "[encoded data removed]",
      "text/plain": [
       "<Figure size 576x360 with 1 Axes>"
      ]
     },
     "metadata": {
      "needs_background": "light"
     },
     "output_type": "display_data"
    }
   ],
   "source": [
    "fig, ax = plt.subplots(figsize=(8, 5))\n",
    "\n",
    "tsplot(neutral_results.T, betas, color=\"grey\", line_color=\"C0\", ax=ax, percentile_min=5.5, \n",
    "       percentile_max=94.5, label=\"age structure = None\")\n",
    "tsplot(age_results.T, betas, color=\"grey\", line_color=\"C1\", ax=ax, percentile_min=5.5, \n",
    "       percentile_max=94.5, label=\"age structure = (0, 2)\")\n",
    "\n",
    "ax.legend(frameon=False)\n",
    "ax.spines[\"top\"].set_visible(False)\n",
    "ax.spines[\"right\"].set_visible(False)\n",
    "ax.set(xlabel=r\"$\\beta$\", ylabel=r\"$p(\\theta=1|x)$\");"
   ]
  },
  {
   "cell_type": "markdown",
   "id": "alpha-ending",
   "metadata": {},
   "source": [
    "With $\\beta$ closer to zero (i.e. when the selection strength is smaller), the average probability of samples being non-neutral goes down. Note however, that the probability decline happens sooner for the age structured model than for the regular wright fisher model. Whether this is a robust result, remains to be seen."
   ]
  }
 ],
 "metadata": {
  "kernelspec": {
   "display_name": "Python 3",
   "language": "python",
   "name": "python3"
  },
  "language_info": {
   "codemirror_mode": {
    "name": "ipython",
    "version": 3
   },
   "file_extension": ".py",
   "mimetype": "text/x-python",
   "name": "python",
   "nbconvert_exporter": "python",
   "pygments_lexer": "ipython3",
   "version": "3.8.5"
  }
 },
 "nbformat": 4,
 "nbformat_minor": 5
}
