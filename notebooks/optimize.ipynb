{
 "cells": [
  {
   "cell_type": "code",
   "execution_count": 1,
   "metadata": {},
   "outputs": [],
   "source": [
    "%run ../src/dataset.py\n",
    "%run ../src/augmentation.py"
   ]
  },
  {
   "cell_type": "code",
   "execution_count": 5,
   "metadata": {},
   "outputs": [
    {
     "name": "stdout",
     "output_type": "stream",
     "text": [
      "Fitting 5 folds for each of 500 candidates, totalling 2500 fits\n",
      "Fitting 5 folds for each of 500 candidates, totalling 2500 fits\n",
      "Fitting 5 folds for each of 500 candidates, totalling 2500 fits\n",
      "Fitting 5 folds for each of 500 candidates, totalling 2500 fits\n",
      "Fitting 5 folds for each of 500 candidates, totalling 2500 fits\n",
      "Fitting 5 folds for each of 500 candidates, totalling 2500 fits\n",
      "Fitting 5 folds for each of 500 candidates, totalling 2500 fits\n",
      "Fitting 5 folds for each of 500 candidates, totalling 2500 fits\n"
     ]
    }
   ],
   "source": [
    "from sklearn.model_selection import RandomizedSearchCV\n",
    "from sklearn.ensemble import RandomForestClassifier, ExtraTreesClassifier\n",
    "\n",
    "random_grid = {\n",
    "    'n_estimators': list(range(100, 2000, 100)),\n",
    "    'criterion': [\"gini\", \"entropy\"],\n",
    "    'max_features': [\"auto\", \"log2\", \"sqrt\"],\n",
    "    'max_depth': list(range(10, 110, 10)) + [None],\n",
    "    'min_samples_split': list(range(2, 20)),\n",
    "    'min_samples_leaf': list(range(1, 10)),\n",
    "    'bootstrap': [True, False]\n",
    "}\n",
    "\n",
    "results = {}\n",
    "for scenario in (1, 2):\n",
    "    for n in (100, 500, 1000, 2000):\n",
    "        transform = Compose(Sampler(n=n), HillNumbers(q_step=0.25))\n",
    "        data = PresimulatedDataset.load(\n",
    "            f\"../data/scenario-{scenario}-trainset-new.npz\", transform=transform)\n",
    "        X, theta = data.dataset, data.theta\n",
    "        y = (theta[:, 0].numpy() != 0).astype(int)\n",
    "\n",
    "        # rf = ExtraTreesClassifier()\n",
    "        rf = RandomForestClassifier()\n",
    "        rf_random = RandomizedSearchCV(\n",
    "            estimator=rf, \n",
    "            param_distributions=random_grid, \n",
    "            n_iter=500, \n",
    "            cv=5,\n",
    "            scoring=\"roc_auc\",\n",
    "            verbose=1, \n",
    "            random_state=42, \n",
    "            n_jobs=20\n",
    "        )\n",
    "\n",
    "        rf_random.fit(X, y)\n",
    "        results[scenario, n] = rf_random"
   ]
  },
  {
   "cell_type": "code",
   "execution_count": 6,
   "metadata": {},
   "outputs": [],
   "source": [
    "import json\n",
    "\n",
    "params = {}\n",
    "for (scenario, n), estimator in results.items():\n",
    "    params[f\"{scenario}-{n}\"] = estimator.best_params_\n",
    "\n",
    "with open(\"clf_params-rf.json\", \"w\") as out:\n",
    "    json.dump(params, out, indent=4)"
   ]
  },
  {
   "cell_type": "code",
   "execution_count": 4,
   "metadata": {},
   "outputs": [
    {
     "data": {
      "text/plain": [
       "{'1-100': {'n_estimators': 700,\n",
       "  'min_samples_split': 9,\n",
       "  'min_samples_leaf': 1,\n",
       "  'max_features': 'sqrt',\n",
       "  'max_depth': 10,\n",
       "  'criterion': 'gini',\n",
       "  'bootstrap': True},\n",
       " '1-500': {'n_estimators': 1500,\n",
       "  'min_samples_split': 18,\n",
       "  'min_samples_leaf': 1,\n",
       "  'max_features': 'sqrt',\n",
       "  'max_depth': 20,\n",
       "  'criterion': 'gini',\n",
       "  'bootstrap': True},\n",
       " '1-1000': {'n_estimators': 700,\n",
       "  'min_samples_split': 9,\n",
       "  'min_samples_leaf': 1,\n",
       "  'max_features': 'sqrt',\n",
       "  'max_depth': 10,\n",
       "  'criterion': 'gini',\n",
       "  'bootstrap': True},\n",
       " '1-2000': {'n_estimators': 1500,\n",
       "  'min_samples_split': 18,\n",
       "  'min_samples_leaf': 1,\n",
       "  'max_features': 'sqrt',\n",
       "  'max_depth': 20,\n",
       "  'criterion': 'gini',\n",
       "  'bootstrap': True},\n",
       " '2-100': {'n_estimators': 700,\n",
       "  'min_samples_split': 6,\n",
       "  'min_samples_leaf': 8,\n",
       "  'max_features': 'sqrt',\n",
       "  'max_depth': 90,\n",
       "  'criterion': 'entropy',\n",
       "  'bootstrap': True},\n",
       " '2-500': {'n_estimators': 1500,\n",
       "  'min_samples_split': 18,\n",
       "  'min_samples_leaf': 1,\n",
       "  'max_features': 'sqrt',\n",
       "  'max_depth': 20,\n",
       "  'criterion': 'gini',\n",
       "  'bootstrap': True},\n",
       " '2-1000': {'n_estimators': 1500,\n",
       "  'min_samples_split': 18,\n",
       "  'min_samples_leaf': 1,\n",
       "  'max_features': 'sqrt',\n",
       "  'max_depth': 20,\n",
       "  'criterion': 'gini',\n",
       "  'bootstrap': True},\n",
       " '2-2000': {'n_estimators': 1500,\n",
       "  'min_samples_split': 18,\n",
       "  'min_samples_leaf': 1,\n",
       "  'max_features': 'sqrt',\n",
       "  'max_depth': 20,\n",
       "  'criterion': 'gini',\n",
       "  'bootstrap': True}}"
      ]
     },
     "execution_count": 4,
     "metadata": {},
     "output_type": "execute_result"
    }
   ],
   "source": [
    "params"
   ]
  },
  {
   "cell_type": "code",
   "execution_count": null,
   "metadata": {},
   "outputs": [],
   "source": []
  }
 ],
 "metadata": {
  "interpreter": {
   "hash": "767d51c1340bd893661ea55ea3124f6de3c7a262a8b4abca0554b478b1e2ff90"
  },
  "kernelspec": {
   "display_name": "Python 3",
   "language": "python",
   "name": "python3"
  },
  "language_info": {
   "codemirror_mode": {
    "name": "ipython",
    "version": 3
   },
   "file_extension": ".py",
   "mimetype": "text/x-python",
   "name": "python",
   "nbconvert_exporter": "python",
   "pygments_lexer": "ipython3",
   "version": "3.8.10"
  }
 },
 "nbformat": 4,
 "nbformat_minor": 2
}
