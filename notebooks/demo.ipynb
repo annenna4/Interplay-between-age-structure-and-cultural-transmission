{
 "cells": [
  {
   "cell_type": "code",
   "execution_count": 1,
   "metadata": {},
   "outputs": [],
   "source": [
    "%run ../src/model.py"
   ]
  },
  {
   "cell_type": "code",
   "execution_count": 2,
   "metadata": {},
   "outputs": [],
   "source": [
    "simulator = Simulator(n_agents=10_000, timesteps=10_000, age_window=(2, 2))"
   ]
  },
  {
   "cell_type": "code",
   "execution_count": 3,
   "metadata": {},
   "outputs": [
    {
     "name": "stderr",
     "output_type": "stream",
     "text": [
      "Burn-in period: 12905it [00:09, 1374.74it/s]\n",
      "Generating populations: 100%|██████████| 10000/10000 [00:08<00:00, 1233.45it/s]\n"
     ]
    }
   ],
   "source": [
    "b, mu, p_death = 0.0, 0.005, 0.1\n",
    "sample, progeny = simulator((b, mu, p_death))"
   ]
  },
  {
   "cell_type": "code",
   "execution_count": 4,
   "metadata": {},
   "outputs": [
    {
     "data": {
      "text/plain": [
       "array([[    99,     21,     31, ...,     57,    134,      1],\n",
       "       [   119,     21,     31, ...,     57,    134,      1],\n",
       "       [   119,     21,     31, ...,     57,    134,     81],\n",
       "       ...,\n",
       "       [ 92221, 102171, 113021, ..., 100188, 111797, 112724],\n",
       "       [112553, 102171, 113021, ..., 100188, 111797, 111255],\n",
       "       [112553, 102171, 113021, ..., 100188, 111797, 111255]])"
      ]
     },
     "execution_count": 4,
     "metadata": {},
     "output_type": "execute_result"
    }
   ],
   "source": [
    "sample"
   ]
  }
 ],
 "metadata": {
  "kernelspec": {
   "display_name": "Python 3",
   "language": "python",
   "name": "python3"
  },
  "language_info": {
   "codemirror_mode": {
    "name": "ipython",
    "version": 3
   },
   "file_extension": ".py",
   "mimetype": "text/x-python",
   "name": "python",
   "nbconvert_exporter": "python",
   "pygments_lexer": "ipython3",
   "version": "3.8.8"
  }
 },
 "nbformat": 4,
 "nbformat_minor": 4
}
