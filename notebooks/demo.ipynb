{
 "cells": [
  {
   "cell_type": "code",
   "execution_count": 1,
   "metadata": {},
   "outputs": [],
   "source": [
    "%run ../src/model.py"
   ]
  },
  {
   "cell_type": "code",
   "execution_count": 7,
   "metadata": {},
   "outputs": [],
   "source": [
    "simulator = Simulator(n_agents=10_000, timesteps=10_000, age_window=(2, 2))"
   ]
  },
  {
   "cell_type": "code",
   "execution_count": 9,
   "metadata": {},
   "outputs": [
    {
     "name": "stderr",
     "output_type": "stream",
     "text": [
      "Burn-in period: 13153it [00:09, 1356.44it/s]\n",
      "Generating populations: 100%|██████████| 10000/10000 [00:08<00:00, 1223.20it/s]\n"
     ]
    }
   ],
   "source": [
    "b, mu, p_death = 0.0, 0.005, 0.1\n",
    "sample, progeny = simulator((b, mu, p_death))"
   ]
  },
  {
   "cell_type": "code",
   "execution_count": 10,
   "metadata": {},
   "outputs": [
    {
     "data": {
      "text/plain": [
       "array([[     0,     30,     74, ...,     25,     13,     23],\n",
       "       [     0,     30,      9, ...,     25,     13,     23],\n",
       "       [     0,     30,     60, ...,     37,     13,     23],\n",
       "       ...,\n",
       "       [ 86700,  90313, 101582, ..., 100910, 107285, 101582],\n",
       "       [ 86700,  90313, 101582, ..., 100910, 107285, 101582],\n",
       "       [ 86700,  90313, 101582, ..., 100910, 107285, 101582]])"
      ]
     },
     "execution_count": 10,
     "metadata": {},
     "output_type": "execute_result"
    }
   ],
   "source": [
    "sample"
   ]
  }
 ],
 "metadata": {
  "kernelspec": {
   "display_name": "Python 3",
   "language": "python",
   "name": "python3"
  },
  "language_info": {
   "codemirror_mode": {
    "name": "ipython",
    "version": 3
   },
   "file_extension": ".py",
   "mimetype": "text/x-python",
   "name": "python",
   "nbconvert_exporter": "python",
   "pygments_lexer": "ipython3",
   "version": "3.8.8"
  }
 },
 "nbformat": 4,
 "nbformat_minor": 4
}
