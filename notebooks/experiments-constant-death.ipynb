{
 "cells": [
  {
   "cell_type": "markdown",
   "id": "approximate-frederick",
   "metadata": {},
   "source": [
    "# Classifying Population Dynamics\n",
    "\n",
    "NOTE: This notebook is the same as the other one, but here we set p_death to 1."
   ]
  },
  {
   "cell_type": "code",
   "execution_count": 1,
   "id": "verbal-fraction",
   "metadata": {},
   "outputs": [],
   "source": [
    "%run ../src/dataset.py\n",
    "%run ../src/augmentation.py\n",
    "%run ../src/simulation.py\n",
    "%run ../src/nets.py\n",
    "%run ../src/trainer.py\n",
    "%run ../src/utils.py"
   ]
  },
  {
   "cell_type": "markdown",
   "id": "final-raleigh",
   "metadata": {},
   "source": [
    "Train a model based on Wright-Fisher simulations (without age structure)."
   ]
  },
  {
   "cell_type": "code",
   "execution_count": 2,
   "id": "cosmetic-wonder",
   "metadata": {},
   "outputs": [],
   "source": [
    "classifier = TimeseriesClassifier(\n",
    "    classifier=MultiLayerPerceptron(128, layers=(64, 64, 64)),\n",
    "    embedder=ResNet(1)\n",
    ")"
   ]
  },
  {
   "cell_type": "code",
   "execution_count": 3,
   "id": "passive-cattle",
   "metadata": {},
   "outputs": [],
   "source": [
    "tranformer = Compose(Normalizer(), Standardizer())\n",
    "data = PresimulatedDataset.load(\"../data/20210430125743.npz\")#, transform=Normalizer())"
   ]
  },
  {
   "cell_type": "code",
   "execution_count": 4,
   "id": "indonesian-alexandria",
   "metadata": {},
   "outputs": [
    {
     "data": {
      "text/plain": [
       "50000"
      ]
     },
     "execution_count": 4,
     "metadata": {},
     "output_type": "execute_result"
    }
   ],
   "source": [
    "len(set(data.ids))"
   ]
  },
  {
   "cell_type": "code",
   "execution_count": 6,
   "id": "capable-latino",
   "metadata": {},
   "outputs": [
    {
     "data": {
      "text/plain": [
       "(tensor([0.0273, 0.0379, 1.0000]),\n",
       " tensor([1106.0000,  231.4993,    6.8429,    1.9991,    1.5973,    1.4775,\n",
       "            1.4209]))"
      ]
     },
     "execution_count": 6,
     "metadata": {},
     "output_type": "execute_result"
    }
   ],
   "source": [
    "data[6000]"
   ]
  },
  {
   "cell_type": "markdown",
   "id": "surprising-torture",
   "metadata": {},
   "source": [
    "Train the actual model. In each epoch, we simulate 50k samples with different parameters, $\\theta$. The training procedure can probably be improved, but it already produces reasonable results."
   ]
  },
  {
   "cell_type": "code",
   "execution_count": 7,
   "id": "subjective-oracle",
   "metadata": {},
   "outputs": [
    {
     "name": "stdout",
     "output_type": "stream",
     "text": [
      "Epoch  1: train loss = 0.28, val loss = 0.18, AUC = 0.97\u001b[32m ++\u001b[0m\n",
      "Epoch  2: train loss = 0.16, val loss = 0.16, AUC = 0.97\u001b[32m ++\u001b[0m\n",
      "Epoch  3: train loss = 0.15, val loss = 0.15, AUC = 0.98\u001b[32m ++\u001b[0m\n",
      "Epoch  4: train loss = 0.14, val loss = 0.15, AUC = 0.98\u001b[32m ++\u001b[0m\n",
      "Epoch  5: train loss = 0.14, val loss = 0.18, AUC = 0.97\u001b[31m --\u001b[0m\n",
      "Epoch  6: train loss = 0.15, val loss = 0.20, AUC = 0.97\u001b[31m --\u001b[0m\n",
      "Epoch  7: train loss = 0.14, val loss = 0.17, AUC = 0.98\u001b[31m --\u001b[0m\n",
      "Epoch  8: train loss = 0.14, val loss = 0.24, AUC = 0.97\u001b[31m --\u001b[0m\n",
      "Epoch  9: train loss = 0.13, val loss = 0.17, AUC = 0.98\u001b[31m --\u001b[0m\n",
      "Epoch 10: train loss = 0.13, val loss = 0.24, AUC = 0.97\u001b[31m --\u001b[0m\n",
      "Epoch    10: reducing learning rate of group 0 to 1.0000e-04.\n",
      "Epoch 11: train loss = 0.14, val loss = 0.14, AUC = 0.98\u001b[32m ++\u001b[0m\n",
      "Epoch 12: train loss = 0.13, val loss = 0.14, AUC = 0.98\u001b[32m ++\u001b[0m\n",
      "Epoch 13: train loss = 0.13, val loss = 0.14, AUC = 0.98\u001b[31m --\u001b[0m\n",
      "Epoch 14: train loss = 0.13, val loss = 0.14, AUC = 0.98\u001b[31m --\u001b[0m\n",
      "Epoch 15: train loss = 0.13, val loss = 0.14, AUC = 0.98\u001b[31m --\u001b[0m\n",
      "Epoch 16: train loss = 0.13, val loss = 0.14, AUC = 0.98\u001b[31m --\u001b[0m\n",
      "Epoch 17: train loss = 0.13, val loss = 0.14, AUC = 0.98\u001b[31m --\u001b[0m\n",
      "Epoch 18: train loss = 0.13, val loss = 0.14, AUC = 0.98\u001b[31m --\u001b[0m\n",
      "Epoch    18: reducing learning rate of group 0 to 1.0000e-05.\n",
      "Epoch 19: train loss = 0.12, val loss = 0.14, AUC = 0.98\u001b[32m ++\u001b[0m\n",
      "Epoch 20: train loss = 0.12, val loss = 0.14, AUC = 0.98\u001b[32m ++\u001b[0m\n",
      "Epoch 21: train loss = 0.12, val loss = 0.14, AUC = 0.98\u001b[32m ++\u001b[0m\n",
      "Epoch 22: train loss = 0.12, val loss = 0.14, AUC = 0.98\u001b[32m ++\u001b[0m\n",
      "Epoch 23: train loss = 0.12, val loss = 0.14, AUC = 0.98\u001b[32m ++\u001b[0m\n",
      "Epoch 24: train loss = 0.12, val loss = 0.14, AUC = 0.98\u001b[32m ++\u001b[0m\n",
      "Epoch 25: train loss = 0.12, val loss = 0.14, AUC = 0.98\u001b[32m ++\u001b[0m\n",
      "Epoch 26: train loss = 0.12, val loss = 0.14, AUC = 0.98\u001b[32m ++\u001b[0m\n",
      "Epoch 27: train loss = 0.12, val loss = 0.14, AUC = 0.98\u001b[32m ++\u001b[0m\n",
      "Epoch 28: train loss = 0.12, val loss = 0.13, AUC = 0.98\u001b[32m ++\u001b[0m\n",
      "Epoch 29: train loss = 0.12, val loss = 0.13, AUC = 0.98\u001b[32m ++\u001b[0m\n",
      "Epoch 30: train loss = 0.12, val loss = 0.13, AUC = 0.98\u001b[32m ++\u001b[0m\n",
      "Epoch 31: train loss = 0.12, val loss = 0.13, AUC = 0.98\u001b[32m ++\u001b[0m\n",
      "Epoch 32: train loss = 0.12, val loss = 0.13, AUC = 0.98\u001b[32m ++\u001b[0m\n",
      "Epoch 33: train loss = 0.12, val loss = 0.13, AUC = 0.98\u001b[32m ++\u001b[0m\n",
      "Epoch 34: train loss = 0.12, val loss = 0.13, AUC = 0.98\u001b[32m ++\u001b[0m\n",
      "Epoch 35: train loss = 0.12, val loss = 0.13, AUC = 0.98\u001b[32m ++\u001b[0m\n",
      "Epoch 36: train loss = 0.12, val loss = 0.13, AUC = 0.98\u001b[32m ++\u001b[0m\n",
      "Epoch 37: train loss = 0.12, val loss = 0.13, AUC = 0.98\u001b[32m ++\u001b[0m\n",
      "Epoch 38: train loss = 0.12, val loss = 0.13, AUC = 0.98\u001b[32m ++\u001b[0m\n",
      "Epoch 39: train loss = 0.12, val loss = 0.13, AUC = 0.98\u001b[32m ++\u001b[0m\n",
      "Epoch 40: train loss = 0.12, val loss = 0.13, AUC = 0.98\u001b[32m ++\u001b[0m\n"
     ]
    }
   ],
   "source": [
    "classifier, train_loader, val_loader = train(\n",
    "    data=data,\n",
    "    classifier=classifier, \n",
    "    n_epochs=40, \n",
    "    batch_size=500, \n",
    "    device=\"cuda\", \n",
    "    learning_rate=0.001,\n",
    "    num_workers=40\n",
    ")"
   ]
  },
  {
   "cell_type": "code",
   "execution_count": 8,
   "id": "cubic-oasis",
   "metadata": {},
   "outputs": [],
   "source": [
    "import multiprocessing as mp\n",
    "\n",
    "classifier.eval()\n",
    "\n",
    "def classify(theta, simulator, num_experiments=100, n_jobs=1):\n",
    "    with mp.Pool(n_jobs) as pool:\n",
    "        x = np.vstack(\n",
    "            pool.starmap(simulator, [(theta, np.random.RandomState(i)) for i in range(num_experiments)])\n",
    "        )\n",
    "    with torch.no_grad():\n",
    "        output = classifier(torch.FloatTensor(x).unsqueeze(1).to(\"cuda\"))\n",
    "    return output"
   ]
  },
  {
   "cell_type": "code",
   "execution_count": 9,
   "id": "extreme-better",
   "metadata": {},
   "outputs": [
    {
     "data": {
      "text/plain": [
       "{'agents': 10000,\n",
       " 'timesteps': 1000,\n",
       " 'simulations': 50000,\n",
       " 'workers': 50,\n",
       " 'beta': [0.0, 0.1],\n",
       " 'mu': [0.0001, 0.1],\n",
       " 'p_death': [1.0, 1.0],\n",
       " 'burn_in': 1000,\n",
       " 'top_n': 0,\n",
       " 'summarize': True}"
      ]
     },
     "execution_count": 9,
     "metadata": {},
     "output_type": "execute_result"
    }
   ],
   "source": [
    "import json\n",
    "\n",
    "with open(\"../data/20210430125743.params.json\") as f:\n",
    "    params = json.load(f)\n",
    "params"
   ]
  },
  {
   "cell_type": "code",
   "execution_count": 10,
   "id": "expensive-television",
   "metadata": {},
   "outputs": [],
   "source": [
    "neutral_simulator = Simulator(\n",
    "    n_agents=params[\"agents\"], \n",
    "    timesteps=params[\"timesteps\"],\n",
    "    age_window=None,\n",
    "    disable_pbar=True,\n",
    "    summarize=True\n",
    ")"
   ]
  },
  {
   "cell_type": "markdown",
   "id": "lined-medication",
   "metadata": {},
   "source": [
    "Test the performance of the model by classifying some generated samples. Given some $\\theta_i$, we simulate 100 samples, and use the trained classifier to 'predict' whether they are examples of neutral evolution or not. The function returns the fraction of biased samples. \n",
    "\n",
    "First, let's test whether the model accurately classifies neutral samples to be neutral:"
   ]
  },
  {
   "cell_type": "code",
   "execution_count": 11,
   "id": "critical-adelaide",
   "metadata": {},
   "outputs": [
    {
     "name": "stdout",
     "output_type": "stream",
     "text": [
      "p(y=0|x) = 1.000\n"
     ]
    }
   ],
   "source": [
    "theta = torch.tensor([0., 0.01, 1.0])\n",
    "output = classify(theta, neutral_simulator, n_jobs=25)\n",
    "pred = (output < 0.5).float().mean().item()\n",
    "\n",
    "print(f\"p(y=0|x) = {pred:.3f}\")"
   ]
  },
  {
   "cell_type": "markdown",
   "id": "subtle-prompt",
   "metadata": {},
   "source": [
    "That seems to be working. And what about non-neutral, biased samples?"
   ]
  },
  {
   "cell_type": "code",
   "execution_count": 12,
   "id": "earlier-riding",
   "metadata": {},
   "outputs": [
    {
     "name": "stdout",
     "output_type": "stream",
     "text": [
      "p(y=1|x) = 1.000\n"
     ]
    }
   ],
   "source": [
    "theta = torch.tensor([0.1, 0.01, 1.0])\n",
    "output = classify(theta, neutral_simulator, n_jobs=25)\n",
    "pred = (output > 0.5).float().mean().item()\n",
    "\n",
    "print(f\"p(y=1|x) = {pred:.3f}\")"
   ]
  },
  {
   "cell_type": "markdown",
   "id": "daily-alcohol",
   "metadata": {},
   "source": [
    "Also not bad. \n",
    "\n",
    "Next, we generate samples with the age-structured model and see whether the model (which was only trained on samples _without_ age structure) can still accurately discriminate between neutral an non-neutral samples:"
   ]
  },
  {
   "cell_type": "code",
   "execution_count": 13,
   "id": "satisfactory-bahrain",
   "metadata": {},
   "outputs": [],
   "source": [
    "age_structured_simulator = Simulator(\n",
    "    n_agents=params[\"agents\"], \n",
    "    timesteps=params[\"timesteps\"],\n",
    "    age_window=(0, 2),\n",
    "    disable_pbar=True,\n",
    "    summarize=True\n",
    ")"
   ]
  },
  {
   "cell_type": "code",
   "execution_count": 14,
   "id": "useful-ballot",
   "metadata": {},
   "outputs": [
    {
     "name": "stdout",
     "output_type": "stream",
     "text": [
      "p(y=0|x) = 1.000\n"
     ]
    }
   ],
   "source": [
    "theta = torch.tensor([0., 0.01, 1.0])\n",
    "output = classify(theta, age_structured_simulator, n_jobs=25)\n",
    "pred = (output < 0.5).float().mean().item()\n",
    "\n",
    "print(f\"p(y=0|x) = {pred:.3f}\")"
   ]
  },
  {
   "cell_type": "code",
   "execution_count": 18,
   "id": "renewable-french",
   "metadata": {},
   "outputs": [
    {
     "name": "stdout",
     "output_type": "stream",
     "text": [
      "p(y=1|x) = 1.000\n"
     ]
    }
   ],
   "source": [
    "theta = torch.tensor([0.1, 0.01, 1.0])\n",
    "output = classify(theta, age_structured_simulator, n_jobs=25)\n",
    "pred = (output > 0.5).float().mean().item()\n",
    "\n",
    "print(f\"p(y=1|x) = {pred:.3f}\")"
   ]
  },
  {
   "cell_type": "code",
   "execution_count": 19,
   "id": "nutritional-adoption",
   "metadata": {},
   "outputs": [
    {
     "name": "stderr",
     "output_type": "stream",
     "text": [
      "100%|██████████| 961/961 [7:16:47<00:00, 27.27s/it]  \n"
     ]
    }
   ],
   "source": [
    "import tqdm\n",
    "\n",
    "betas = np.linspace(-0.1, 0.1, num=31)\n",
    "p_deaths = np.linspace(0.01, 1.0, num=31)\n",
    "\n",
    "neutral_scores, age_scores = [], []\n",
    "with tqdm.tqdm(total=len(betas) * len(p_deaths)) as pbar:\n",
    "    for beta in betas:\n",
    "        for d in p_deaths:\n",
    "            theta = torch.tensor([beta, 0.01, d])\n",
    "            neutral_scores.append(classify(theta, neutral_simulator, n_jobs=25).cpu().numpy())\n",
    "            age_scores.append(classify(theta, age_structured_simulator, n_jobs=25).cpu().numpy())\n",
    "            pbar.update()"
   ]
  },
  {
   "cell_type": "code",
   "execution_count": 20,
   "id": "rational-straight",
   "metadata": {},
   "outputs": [],
   "source": [
    "neutral_results = np.array(neutral_scores).reshape(len(betas), len(p_deaths), -1)\n",
    "age_results = np.array(age_scores).reshape(len(betas), len(p_deaths), -1)"
   ]
  },
  {
   "cell_type": "markdown",
   "id": "universal-friend",
   "metadata": {},
   "source": [
    "The plot below visualizes the results:"
   ]
  },
  {
   "cell_type": "code",
   "execution_count": 21,
   "id": "binary-playing",
   "metadata": {},
   "outputs": [],
   "source": [
    "neutral_matrix = np.zeros((len(betas), len(p_deaths)))\n",
    "\n",
    "for i, beta in enumerate(betas):\n",
    "    for j, p_death in enumerate(p_deaths):\n",
    "        scores = neutral_results[i, j]\n",
    "        if beta != 0:\n",
    "            score = (scores > 0.5).mean()\n",
    "        else:\n",
    "            score = (scores < 0.5).mean()\n",
    "        neutral_matrix[i, j] = score"
   ]
  },
  {
   "cell_type": "code",
   "execution_count": 22,
   "id": "bright-chester",
   "metadata": {},
   "outputs": [
    {
     "data": {
      "image/png": "[encoded data removed]",
      "text/plain": [
       "<Figure size 432x288 with 2 Axes>"
      ]
     },
     "metadata": {
      "needs_background": "light"
     },
     "output_type": "display_data"
    }
   ],
   "source": [
    "fig, ax = plt.subplots()\n",
    "\n",
    "img = ax.imshow(\n",
    "    neutral_matrix, \n",
    "    extent=[p_deaths.min(), p_deaths.max(), betas.max(), betas.min()],\n",
    "    aspect=\"auto\"\n",
    ")\n",
    "ax.set(xlabel=\"$p(death)$\", ylabel=\"$\\\\beta$\", title=\"threshold high = None\")\n",
    "plt.colorbar(img);"
   ]
  },
  {
   "cell_type": "code",
   "execution_count": 23,
   "id": "tropical-infrastructure",
   "metadata": {},
   "outputs": [],
   "source": [
    "age_matrix = np.zeros((len(betas), len(p_deaths)))\n",
    "\n",
    "for i, beta in enumerate(betas):\n",
    "    for j, p_death in enumerate(p_deaths):\n",
    "        scores = age_results[i, j]\n",
    "        if beta != 0:\n",
    "            score = (scores > 0.5).mean()\n",
    "        else:\n",
    "            score = (scores < 0.5).mean()\n",
    "        age_matrix[i, j] = score"
   ]
  },
  {
   "cell_type": "code",
   "execution_count": 24,
   "id": "aboriginal-loading",
   "metadata": {},
   "outputs": [
    {
     "data": {
      "image/png": "[encoded data removed]",
      "text/plain": [
       "<Figure size 432x288 with 2 Axes>"
      ]
     },
     "metadata": {
      "needs_background": "light"
     },
     "output_type": "display_data"
    }
   ],
   "source": [
    "fig, ax = plt.subplots()\n",
    "\n",
    "img = ax.imshow(\n",
    "    age_matrix, \n",
    "    extent=[p_deaths.min(), p_deaths.max(), betas.max(), betas.min()],\n",
    "    aspect=\"auto\"\n",
    ")\n",
    "ax.set(xlabel=\"$p(death)$\", ylabel=\"$\\\\beta$\", title=\"threshold high = 2\")\n",
    "plt.colorbar(img);"
   ]
  },
  {
   "cell_type": "code",
   "execution_count": null,
   "id": "accurate-minnesota",
   "metadata": {},
   "outputs": [],
   "source": []
  }
 ],
 "metadata": {
  "kernelspec": {
   "display_name": "Python 3",
   "language": "python",
   "name": "python3"
  },
  "language_info": {
   "codemirror_mode": {
    "name": "ipython",
    "version": 3
   },
   "file_extension": ".py",
   "mimetype": "text/x-python",
   "name": "python",
   "nbconvert_exporter": "python",
   "pygments_lexer": "ipython3",
   "version": "3.8.5"
  }
 },
 "nbformat": 4,
 "nbformat_minor": 5
}
